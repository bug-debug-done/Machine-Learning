{
 "cells": [
  {
   "cell_type": "markdown",
   "id": "3acc8758",
   "metadata": {},
   "source": [
    "#                                Basics\n",
    "    print\n",
    "    comments\n",
    "    Literal constants\n",
    "    variables\n",
    "    "
   ]
  },
  {
   "cell_type": "code",
   "execution_count": 11,
   "id": "ca4a14cb",
   "metadata": {},
   "outputs": [
    {
     "name": "stdout",
     "output_type": "stream",
     "text": [
      "Hello World\n"
     ]
    }
   ],
   "source": [
    "print(\"Hello World\")"
   ]
  },
  {
   "cell_type": "markdown",
   "id": "46dadab7",
   "metadata": {},
   "source": [
    "### comments\n"
   ]
  },
  {
   "cell_type": "code",
   "execution_count": 12,
   "id": "0e6e2983",
   "metadata": {},
   "outputs": [],
   "source": [
    "# this is a comment \n",
    "# single line comment"
   ]
  },
  {
   "cell_type": "code",
   "execution_count": 13,
   "id": "f61e61d2",
   "metadata": {},
   "outputs": [
    {
     "data": {
      "text/plain": [
       "'\\nThis is not multiline comments\\nthere is a catch because it is not ignored\\ntry to run this is multiline strings\\n\\n\\n'"
      ]
     },
     "execution_count": 13,
     "metadata": {},
     "output_type": "execute_result"
    }
   ],
   "source": [
    "'''\n",
    "This is not multiline comments\n",
    "there is a catch because it is not ignored\n",
    "try to run this is multiline strings\n",
    "\n",
    "\n",
    "'''"
   ]
  },
  {
   "cell_type": "markdown",
   "id": "09778bfb",
   "metadata": {},
   "source": [
    "##     Literal constants\n",
    "\n",
    "\n",
    "    numbers\n",
    "        int \n",
    "        float\n",
    "        complex\n",
    "    Stirngs\n",
    "        Single quote\n",
    "        double quote\n",
    "        triple quote\n",
    "        Escape Sequence(\\n.\\t,\\r)\n",
    "        Explicit line joining\n"
   ]
  },
  {
   "cell_type": "code",
   "execution_count": 25,
   "id": "4b05dd9a",
   "metadata": {},
   "outputs": [
    {
     "name": "stdout",
     "output_type": "stream",
     "text": [
      "5\n",
      "1.7\n"
     ]
    }
   ],
   "source": [
    "a=5\n",
    "b=1.7\n",
    "print(a)\n",
    "print(b)"
   ]
  },
  {
   "cell_type": "code",
   "execution_count": 30,
   "id": "5f580eaf",
   "metadata": {},
   "outputs": [
    {
     "data": {
      "text/plain": [
       "int"
      ]
     },
     "execution_count": 30,
     "metadata": {},
     "output_type": "execute_result"
    }
   ],
   "source": [
    "type(a)"
   ]
  },
  {
   "cell_type": "code",
   "execution_count": 31,
   "id": "c344dde3",
   "metadata": {},
   "outputs": [
    {
     "data": {
      "text/plain": [
       "float"
      ]
     },
     "execution_count": 31,
     "metadata": {},
     "output_type": "execute_result"
    }
   ],
   "source": [
    "\n",
    "type(b)"
   ]
  },
  {
   "cell_type": "code",
   "execution_count": 27,
   "id": "e76cf4b7",
   "metadata": {},
   "outputs": [],
   "source": [
    "c=1+5j"
   ]
  },
  {
   "cell_type": "code",
   "execution_count": 28,
   "id": "e1e3d090",
   "metadata": {},
   "outputs": [
    {
     "name": "stdout",
     "output_type": "stream",
     "text": [
      "(1+5j)\n"
     ]
    },
    {
     "data": {
      "text/plain": [
       "complex"
      ]
     },
     "execution_count": 28,
     "metadata": {},
     "output_type": "execute_result"
    }
   ],
   "source": [
    "print(c)\n",
    "type(c)"
   ]
  },
  {
   "cell_type": "markdown",
   "id": "2eb68c29",
   "metadata": {},
   "source": [
    "## Strings"
   ]
  },
  {
   "cell_type": "code",
   "execution_count": 32,
   "id": "94546e06",
   "metadata": {},
   "outputs": [
    {
     "name": "stdout",
     "output_type": "stream",
     "text": [
      "a\n",
      "b\n",
      "thios is single quote\n",
      "multiline\n",
      "string\n",
      "check it\n",
      "this \n",
      "is triple double quots\n"
     ]
    }
   ],
   "source": [
    "a='a'\n",
    "print(a)\n",
    "b=\"b\"\n",
    "print(b)\n",
    "c='''thios is single quote\n",
    "multiline\n",
    "string\n",
    "check it'''\n",
    "print(c)\n",
    "d=\"\"\"this \n",
    "is triple double quots\"\"\"\n",
    "print(d)"
   ]
  },
  {
   "cell_type": "code",
   "execution_count": null,
   "id": "cd44a2ef",
   "metadata": {},
   "outputs": [],
   "source": []
  },
  {
   "cell_type": "markdown",
   "id": "a4ee9728",
   "metadata": {},
   "source": [
    "## Arithmaric operators(+,-,*,**,/,//,%)"
   ]
  },
  {
   "cell_type": "code",
   "execution_count": 38,
   "id": "6dbdffa6",
   "metadata": {},
   "outputs": [
    {
     "name": "stdout",
     "output_type": "stream",
     "text": [
      "31\n",
      "-11\n",
      "210\n",
      "1000000000000000000000\n",
      "0.47619047619047616\n",
      "0.4762\n",
      "0\n",
      "1\n"
     ]
    }
   ],
   "source": [
    "a=10\n",
    "b=21\n",
    "print(a+b)\n",
    "print(a-b)\n",
    "print(a*b)\n",
    "print(a**b)#power of number\n",
    "print(a/b)\n",
    "print(\"%0.4f\"%(a/b))\n",
    "print(a//b)\n",
    "print(b%a)#rem\n"
   ]
  },
  {
   "cell_type": "code",
   "execution_count": 39,
   "id": "6515fe99",
   "metadata": {},
   "outputs": [
    {
     "name": "stdout",
     "output_type": "stream",
     "text": [
      "10 20 30.34\n"
     ]
    }
   ],
   "source": [
    "a,b,c=10,20,30.34\n",
    "print(a,b,c)"
   ]
  },
  {
   "cell_type": "markdown",
   "id": "54cb7938",
   "metadata": {},
   "source": [
    "# if-else"
   ]
  },
  {
   "cell_type": "code",
   "execution_count": 44,
   "id": "87a816c4",
   "metadata": {},
   "outputs": [
    {
     "name": "stdout",
     "output_type": "stream",
     "text": [
      "no\n",
      "17\n"
     ]
    }
   ],
   "source": [
    "a=17\n",
    "if a<15:\n",
    "    print(a)\n",
    "    \n",
    "elif a>20:\n",
    "    print (\"20\")\n",
    "else:\n",
    "    print (\"no\")\n",
    "print(a)"
   ]
  },
  {
   "cell_type": "code",
   "execution_count": 48,
   "id": "86156060",
   "metadata": {},
   "outputs": [
    {
     "name": "stdout",
     "output_type": "stream",
     "text": [
      "0\n"
     ]
    }
   ],
   "source": [
    "a=0\n",
    "if a>0:\n",
    "    print(\"+\")\n",
    "elif a<0:\n",
    "    print(\"-\")\n",
    "else:\n",
    "    print(\"0\")"
   ]
  },
  {
   "cell_type": "markdown",
   "id": "d1c0c318",
   "metadata": {},
   "source": [
    "# Functions"
   ]
  },
  {
   "cell_type": "code",
   "execution_count": 49,
   "id": "96e65293",
   "metadata": {},
   "outputs": [
    {
     "name": "stdout",
     "output_type": "stream",
     "text": [
      "Knock Knock Knock\n",
      "Knock Knock Knock\n",
      "Knock Knock Knock\n",
      "Knock Knock Knock\n",
      "Knock Knock Knock\n"
     ]
    }
   ],
   "source": [
    "a=5;\n",
    "for i in range(a):\n",
    "    print(\"Knock Knock Knock\")"
   ]
  },
  {
   "cell_type": "code",
   "execution_count": 53,
   "id": "90fa9203",
   "metadata": {},
   "outputs": [],
   "source": [
    "def knock():\n",
    "    print(\"Knock Knock Knock\")\n",
    "    print(\"Knock Knock Knock\")\n",
    "    print(\"Knock Knock Knock\")\n",
    "    print(\"Knock Knock Knock\")"
   ]
  },
  {
   "cell_type": "code",
   "execution_count": 54,
   "id": "c1e627ba",
   "metadata": {},
   "outputs": [
    {
     "name": "stdout",
     "output_type": "stream",
     "text": [
      "Knock Knock Knock\n",
      "Knock Knock Knock\n",
      "Knock Knock Knock\n",
      "Knock Knock Knock\n"
     ]
    }
   ],
   "source": [
    "knock()"
   ]
  },
  {
   "cell_type": "code",
   "execution_count": 55,
   "id": "c8f8baea",
   "metadata": {},
   "outputs": [],
   "source": [
    "def number (name):\n",
    "    print(\"Knock Knock Knock {}\".format(name))"
   ]
  },
  {
   "cell_type": "code",
   "execution_count": null,
   "id": "9f74e271",
   "metadata": {},
   "outputs": [],
   "source": []
  },
  {
   "cell_type": "code",
   "execution_count": 56,
   "id": "aa1e69c1",
   "metadata": {},
   "outputs": [
    {
     "name": "stdout",
     "output_type": "stream",
     "text": [
      "Knock Knock Knock ashutosh\n"
     ]
    }
   ],
   "source": [
    "number(\"ashutosh\")"
   ]
  },
  {
   "cell_type": "code",
   "execution_count": 57,
   "id": "3ec83a31",
   "metadata": {},
   "outputs": [],
   "source": [
    "def add(a,b):\n",
    "    return a+b"
   ]
  },
  {
   "cell_type": "code",
   "execution_count": 59,
   "id": "c8524c96",
   "metadata": {},
   "outputs": [
    {
     "name": "stdout",
     "output_type": "stream",
     "text": [
      "7\n"
     ]
    }
   ],
   "source": [
    "print(add(5,2))"
   ]
  },
  {
   "cell_type": "markdown",
   "id": "47d6b0a6",
   "metadata": {},
   "source": [
    "# String\n"
   ]
  },
  {
   "cell_type": "code",
   "execution_count": 60,
   "id": "cc288ef1",
   "metadata": {},
   "outputs": [],
   "source": [
    "a=\"Ashutosh\""
   ]
  },
  {
   "cell_type": "code",
   "execution_count": 62,
   "id": "11f026aa",
   "metadata": {},
   "outputs": [
    {
     "name": "stdout",
     "output_type": "stream",
     "text": [
      "Ashutosh\n"
     ]
    }
   ],
   "source": [
    "print(a)\n"
   ]
  },
  {
   "cell_type": "code",
   "execution_count": 63,
   "id": "5358a9fd",
   "metadata": {},
   "outputs": [
    {
     "name": "stdout",
     "output_type": "stream",
     "text": [
      "A\n"
     ]
    }
   ],
   "source": [
    "print(a[0])"
   ]
  },
  {
   "cell_type": "markdown",
   "id": "52ac5b0e",
   "metadata": {},
   "source": [
    "### ord and chr"
   ]
  },
  {
   "cell_type": "code",
   "execution_count": 66,
   "id": "ca024d70",
   "metadata": {},
   "outputs": [
    {
     "data": {
      "text/plain": [
       "64"
      ]
     },
     "execution_count": 66,
     "metadata": {},
     "output_type": "execute_result"
    }
   ],
   "source": [
    "ord('@')"
   ]
  },
  {
   "cell_type": "code",
   "execution_count": 67,
   "id": "82b409bc",
   "metadata": {},
   "outputs": [
    {
     "data": {
      "text/plain": [
       "65"
      ]
     },
     "execution_count": 67,
     "metadata": {},
     "output_type": "execute_result"
    }
   ],
   "source": [
    "ord('A')"
   ]
  },
  {
   "cell_type": "code",
   "execution_count": 69,
   "id": "44c1b988",
   "metadata": {},
   "outputs": [
    {
     "data": {
      "text/plain": [
       "'A'"
      ]
     },
     "execution_count": 69,
     "metadata": {},
     "output_type": "execute_result"
    }
   ],
   "source": [
    "chr(65)"
   ]
  },
  {
   "cell_type": "code",
   "execution_count": 70,
   "id": "6a9568f6",
   "metadata": {},
   "outputs": [
    {
     "data": {
      "text/plain": [
       "'@'"
      ]
     },
     "execution_count": 70,
     "metadata": {},
     "output_type": "execute_result"
    }
   ],
   "source": [
    "chr(64)"
   ]
  },
  {
   "cell_type": "code",
   "execution_count": 72,
   "id": "042c215f",
   "metadata": {},
   "outputs": [],
   "source": [
    "a=1\n",
    "b=2\n",
    "c=3\n"
   ]
  },
  {
   "cell_type": "code",
   "execution_count": 73,
   "id": "0c585b06",
   "metadata": {},
   "outputs": [
    {
     "name": "stdout",
     "output_type": "stream",
     "text": [
      "1-2-3\n"
     ]
    }
   ],
   "source": [
    "print(str(a)+\"-\"+str(b)+\"-\"+str(c))"
   ]
  },
  {
   "cell_type": "code",
   "execution_count": 74,
   "id": "c710603b",
   "metadata": {},
   "outputs": [
    {
     "name": "stdout",
     "output_type": "stream",
     "text": [
      "1-2-3\n"
     ]
    }
   ],
   "source": [
    "print(\"%d-%d-%d\"%(a,b,c))"
   ]
  },
  {
   "cell_type": "code",
   "execution_count": 78,
   "id": "8a02b36d",
   "metadata": {},
   "outputs": [
    {
     "name": "stdout",
     "output_type": "stream",
     "text": [
      "1-2-3\n"
     ]
    }
   ],
   "source": [
    "print(\"{}-{}-{}\".format(a,b,c))"
   ]
  },
  {
   "cell_type": "code",
   "execution_count": 79,
   "id": "b9688c80",
   "metadata": {},
   "outputs": [
    {
     "name": "stdout",
     "output_type": "stream",
     "text": [
      "3-1-2\n"
     ]
    }
   ],
   "source": [
    "print(\"{2}-{0}-{1}\".format(a,b,c))"
   ]
  },
  {
   "cell_type": "code",
   "execution_count": 80,
   "id": "4443e1c6",
   "metadata": {},
   "outputs": [],
   "source": [
    "a=\"Ashutosh\""
   ]
  },
  {
   "cell_type": "code",
   "execution_count": 81,
   "id": "4f53eddc",
   "metadata": {},
   "outputs": [
    {
     "data": {
      "text/plain": [
       "str"
      ]
     },
     "execution_count": 81,
     "metadata": {},
     "output_type": "execute_result"
    }
   ],
   "source": [
    "type(a)"
   ]
  },
  {
   "cell_type": "code",
   "execution_count": 82,
   "id": "2ecba79d",
   "metadata": {},
   "outputs": [],
   "source": [
    "b=\"choudhary\""
   ]
  },
  {
   "cell_type": "code",
   "execution_count": 87,
   "id": "4c509901",
   "metadata": {},
   "outputs": [
    {
     "name": "stdout",
     "output_type": "stream",
     "text": [
      "Ashu choudhary\n"
     ]
    }
   ],
   "source": [
    "print(\"{firstname} {lastname}\".format(firstname='Ashu',lastname=b))"
   ]
  },
  {
   "cell_type": "code",
   "execution_count": 88,
   "id": "e324507a",
   "metadata": {},
   "outputs": [],
   "source": [
    "firstname=\"Ashutosh\"\n",
    "lastname=\"choudhary\""
   ]
  },
  {
   "cell_type": "code",
   "execution_count": 89,
   "id": "fa38db62",
   "metadata": {},
   "outputs": [
    {
     "name": "stdout",
     "output_type": "stream",
     "text": [
      "Ashutosh choudhary\n"
     ]
    }
   ],
   "source": [
    "print(f\"{firstname} {lastname}\")"
   ]
  },
  {
   "cell_type": "code",
   "execution_count": 90,
   "id": "a928c883",
   "metadata": {},
   "outputs": [],
   "source": [
    "var=\"            Ashutosh..        \""
   ]
  },
  {
   "cell_type": "code",
   "execution_count": 91,
   "id": "55bc697f",
   "metadata": {},
   "outputs": [
    {
     "name": "stdout",
     "output_type": "stream",
     "text": [
      "Ashutosh..\n"
     ]
    }
   ],
   "source": [
    "print(var.strip())"
   ]
  },
  {
   "cell_type": "code",
   "execution_count": 99,
   "id": "2fc60d12",
   "metadata": {},
   "outputs": [
    {
     "name": "stdout",
     "output_type": "stream",
     "text": [
      "11 2 3-4 5 5 5 7\n"
     ]
    }
   ],
   "source": [
    "a=input()"
   ]
  },
  {
   "cell_type": "code",
   "execution_count": 100,
   "id": "2c3c9526",
   "metadata": {},
   "outputs": [
    {
     "name": "stdout",
     "output_type": "stream",
     "text": [
      "11 2 3-4 5 5 5 7\n"
     ]
    }
   ],
   "source": [
    "print(a)"
   ]
  },
  {
   "cell_type": "code",
   "execution_count": 101,
   "id": "11b63ec1",
   "metadata": {},
   "outputs": [
    {
     "name": "stdout",
     "output_type": "stream",
     "text": [
      "['11 2 3', '4 5 5 5 7']\n"
     ]
    }
   ],
   "source": [
    "print(a.split(\"-\"))"
   ]
  },
  {
   "cell_type": "code",
   "execution_count": 103,
   "id": "6085d658",
   "metadata": {},
   "outputs": [],
   "source": [
    "a=\"Ashutush\""
   ]
  },
  {
   "cell_type": "code",
   "execution_count": 104,
   "id": "79258a80",
   "metadata": {},
   "outputs": [
    {
     "name": "stdout",
     "output_type": "stream",
     "text": [
      "Ashutush\n"
     ]
    }
   ],
   "source": [
    "print(a)"
   ]
  },
  {
   "cell_type": "code",
   "execution_count": 105,
   "id": "3a06c439",
   "metadata": {},
   "outputs": [
    {
     "data": {
      "text/plain": [
       "'Ashotosh'"
      ]
     },
     "execution_count": 105,
     "metadata": {},
     "output_type": "execute_result"
    }
   ],
   "source": [
    "a.replace('u','o')"
   ]
  },
  {
   "cell_type": "code",
   "execution_count": 107,
   "id": "0626f8b1",
   "metadata": {},
   "outputs": [
    {
     "data": {
      "text/plain": [
       "2"
      ]
     },
     "execution_count": 107,
     "metadata": {},
     "output_type": "execute_result"
    }
   ],
   "source": [
    "a.count('u')"
   ]
  },
  {
   "cell_type": "markdown",
   "id": "7b5aff6b",
   "metadata": {},
   "source": [
    "# List\n",
    "\n",
    "\n",
    "    list are\n",
    "        ordered\n",
    "        mutable\n",
    "        accessec using index\n",
    "        hetrogeneous"
   ]
  },
  {
   "cell_type": "code",
   "execution_count": 108,
   "id": "b556f90e",
   "metadata": {},
   "outputs": [],
   "source": [
    "a=[1,2,3,4,5,6,7]"
   ]
  },
  {
   "cell_type": "code",
   "execution_count": 109,
   "id": "a6866fd2",
   "metadata": {},
   "outputs": [
    {
     "data": {
      "text/plain": [
       "[1, 2, 3, 4, 5, 6, 7]"
      ]
     },
     "execution_count": 109,
     "metadata": {},
     "output_type": "execute_result"
    }
   ],
   "source": [
    "a"
   ]
  },
  {
   "cell_type": "code",
   "execution_count": 110,
   "id": "77c0d952",
   "metadata": {},
   "outputs": [
    {
     "data": {
      "text/plain": [
       "7"
      ]
     },
     "execution_count": 110,
     "metadata": {},
     "output_type": "execute_result"
    }
   ],
   "source": [
    "a[6]"
   ]
  },
  {
   "cell_type": "code",
   "execution_count": 111,
   "id": "bc6bddf1",
   "metadata": {},
   "outputs": [],
   "source": [
    "a=[\"Ashutosh\",2,3,4,5,6,7.7]"
   ]
  },
  {
   "cell_type": "code",
   "execution_count": 112,
   "id": "de083268",
   "metadata": {},
   "outputs": [
    {
     "data": {
      "text/plain": [
       "['Ashutosh', 2, 3, 4, 5, 6, 7.7]"
      ]
     },
     "execution_count": 112,
     "metadata": {},
     "output_type": "execute_result"
    }
   ],
   "source": [
    "a"
   ]
  },
  {
   "cell_type": "code",
   "execution_count": 113,
   "id": "5a72720a",
   "metadata": {},
   "outputs": [],
   "source": [
    "a[5]=7.7"
   ]
  },
  {
   "cell_type": "code",
   "execution_count": 114,
   "id": "bc38f4b8",
   "metadata": {},
   "outputs": [
    {
     "data": {
      "text/plain": [
       "['Ashutosh', 2, 3, 4, 5, 7.7, 7.7]"
      ]
     },
     "execution_count": 114,
     "metadata": {},
     "output_type": "execute_result"
    }
   ],
   "source": [
    "a"
   ]
  },
  {
   "cell_type": "code",
   "execution_count": 115,
   "id": "5f2222f6",
   "metadata": {},
   "outputs": [
    {
     "data": {
      "text/plain": [
       "7"
      ]
     },
     "execution_count": 115,
     "metadata": {},
     "output_type": "execute_result"
    }
   ],
   "source": [
    "len(a)"
   ]
  },
  {
   "cell_type": "code",
   "execution_count": 116,
   "id": "cc2b64ee",
   "metadata": {},
   "outputs": [
    {
     "data": {
      "text/plain": [
       "['Ashutosh', 2, 3, 4, 5, 7.7, 7.7, 'Ashutosh', 2, 3, 4, 5, 7.7, 7.7]"
      ]
     },
     "execution_count": 116,
     "metadata": {},
     "output_type": "execute_result"
    }
   ],
   "source": [
    "a+a"
   ]
  },
  {
   "cell_type": "code",
   "execution_count": 117,
   "id": "2a0fbe07",
   "metadata": {},
   "outputs": [
    {
     "data": {
      "text/plain": [
       "['Ashutosh', 2, 3, 4, 5, 7.7, 7.7]"
      ]
     },
     "execution_count": 117,
     "metadata": {},
     "output_type": "execute_result"
    }
   ],
   "source": [
    "a"
   ]
  },
  {
   "cell_type": "code",
   "execution_count": 118,
   "id": "cb4b64e6",
   "metadata": {
    "scrolled": false
   },
   "outputs": [
    {
     "data": {
      "text/plain": [
       "['Ashutosh',\n",
       " 2,\n",
       " 3,\n",
       " 4,\n",
       " 5,\n",
       " 7.7,\n",
       " 7.7,\n",
       " 'Ashutosh',\n",
       " 2,\n",
       " 3,\n",
       " 4,\n",
       " 5,\n",
       " 7.7,\n",
       " 7.7,\n",
       " 'Ashutosh',\n",
       " 2,\n",
       " 3,\n",
       " 4,\n",
       " 5,\n",
       " 7.7,\n",
       " 7.7,\n",
       " 'Ashutosh',\n",
       " 2,\n",
       " 3,\n",
       " 4,\n",
       " 5,\n",
       " 7.7,\n",
       " 7.7,\n",
       " 'Ashutosh',\n",
       " 2,\n",
       " 3,\n",
       " 4,\n",
       " 5,\n",
       " 7.7,\n",
       " 7.7]"
      ]
     },
     "execution_count": 118,
     "metadata": {},
     "output_type": "execute_result"
    }
   ],
   "source": [
    "a*5"
   ]
  },
  {
   "cell_type": "code",
   "execution_count": 119,
   "id": "e6d4180a",
   "metadata": {},
   "outputs": [
    {
     "data": {
      "text/plain": [
       "True"
      ]
     },
     "execution_count": 119,
     "metadata": {},
     "output_type": "execute_result"
    }
   ],
   "source": [
    "\"Ashutosh\" in a"
   ]
  },
  {
   "cell_type": "code",
   "execution_count": 120,
   "id": "79afb382",
   "metadata": {
    "scrolled": true
   },
   "outputs": [
    {
     "name": "stdout",
     "output_type": "stream",
     "text": [
      "Ashutosh\n",
      "2\n",
      "3\n",
      "4\n",
      "5\n",
      "7.7\n",
      "7.7\n"
     ]
    }
   ],
   "source": [
    "for x in a:\n",
    "    print(x)"
   ]
  },
  {
   "cell_type": "code",
   "execution_count": 121,
   "id": "39d201b0",
   "metadata": {},
   "outputs": [
    {
     "data": {
      "text/plain": [
       "7.7"
      ]
     },
     "execution_count": 121,
     "metadata": {},
     "output_type": "execute_result"
    }
   ],
   "source": [
    "a[-1]"
   ]
  },
  {
   "cell_type": "code",
   "execution_count": 122,
   "id": "1c93159a",
   "metadata": {},
   "outputs": [
    {
     "data": {
      "text/plain": [
       "'Ashutosh'"
      ]
     },
     "execution_count": 122,
     "metadata": {},
     "output_type": "execute_result"
    }
   ],
   "source": [
    "a[-7]"
   ]
  },
  {
   "cell_type": "code",
   "execution_count": 123,
   "id": "ee6cc573",
   "metadata": {},
   "outputs": [
    {
     "ename": "IndexError",
     "evalue": "list index out of range",
     "output_type": "error",
     "traceback": [
      "\u001b[0;31m---------------------------------------------------------------------------\u001b[0m",
      "\u001b[0;31mIndexError\u001b[0m                                Traceback (most recent call last)",
      "\u001b[0;32m/tmp/ipykernel_9933/506522434.py\u001b[0m in \u001b[0;36m<module>\u001b[0;34m\u001b[0m\n\u001b[0;32m----> 1\u001b[0;31m \u001b[0ma\u001b[0m\u001b[0;34m[\u001b[0m\u001b[0;36m7\u001b[0m\u001b[0;34m]\u001b[0m\u001b[0;34m\u001b[0m\u001b[0;34m\u001b[0m\u001b[0m\n\u001b[0m",
      "\u001b[0;31mIndexError\u001b[0m: list index out of range"
     ]
    }
   ],
   "source": [
    "a[7]"
   ]
  },
  {
   "cell_type": "code",
   "execution_count": 124,
   "id": "b1806d82",
   "metadata": {},
   "outputs": [
    {
     "data": {
      "text/plain": [
       "[2, 3, 4, 5]"
      ]
     },
     "execution_count": 124,
     "metadata": {},
     "output_type": "execute_result"
    }
   ],
   "source": [
    "a[1:5]"
   ]
  },
  {
   "cell_type": "code",
   "execution_count": 125,
   "id": "fc01fb7e",
   "metadata": {},
   "outputs": [
    {
     "data": {
      "text/plain": [
       "['Ashutosh', 3, 5]"
      ]
     },
     "execution_count": 125,
     "metadata": {},
     "output_type": "execute_result"
    }
   ],
   "source": [
    "a[0:5:2]"
   ]
  },
  {
   "cell_type": "code",
   "execution_count": 126,
   "id": "8029f3d7",
   "metadata": {},
   "outputs": [
    {
     "data": {
      "text/plain": [
       "[7.7, 7.7, 5, 4, 3, 2, 'Ashutosh']"
      ]
     },
     "execution_count": 126,
     "metadata": {},
     "output_type": "execute_result"
    }
   ],
   "source": [
    "a[::-1]"
   ]
  },
  {
   "cell_type": "code",
   "execution_count": 127,
   "id": "8db14233",
   "metadata": {},
   "outputs": [],
   "source": [
    "a=\"AbbA\"\n"
   ]
  },
  {
   "cell_type": "code",
   "execution_count": 129,
   "id": "29fcc98f",
   "metadata": {},
   "outputs": [
    {
     "name": "stdout",
     "output_type": "stream",
     "text": [
      "it is a palindrome\n"
     ]
    }
   ],
   "source": [
    "if a==a[::-1]:\n",
    "    print(\"it is a palindrome\")"
   ]
  },
  {
   "cell_type": "code",
   "execution_count": 130,
   "id": "9d9da115",
   "metadata": {},
   "outputs": [],
   "source": [
    "a=[1,2,3,4,5,6,7,8,9,10]"
   ]
  },
  {
   "cell_type": "code",
   "execution_count": 133,
   "id": "ac0950fa",
   "metadata": {},
   "outputs": [],
   "source": [
    "a.insert(1,77)"
   ]
  },
  {
   "cell_type": "code",
   "execution_count": 134,
   "id": "0a752135",
   "metadata": {},
   "outputs": [
    {
     "data": {
      "text/plain": [
       "[1, 77, 2, 3, 4, 5, 6, 7, 8, 9, 10]"
      ]
     },
     "execution_count": 134,
     "metadata": {},
     "output_type": "execute_result"
    }
   ],
   "source": [
    "a"
   ]
  },
  {
   "cell_type": "code",
   "execution_count": 135,
   "id": "3e4b70e5",
   "metadata": {},
   "outputs": [],
   "source": [
    "a.append(77777)"
   ]
  },
  {
   "cell_type": "code",
   "execution_count": 136,
   "id": "f73edd27",
   "metadata": {},
   "outputs": [
    {
     "data": {
      "text/plain": [
       "[1, 77, 2, 3, 4, 5, 6, 7, 8, 9, 10, 77777]"
      ]
     },
     "execution_count": 136,
     "metadata": {},
     "output_type": "execute_result"
    }
   ],
   "source": [
    "a"
   ]
  },
  {
   "cell_type": "code",
   "execution_count": 137,
   "id": "f86f924e",
   "metadata": {},
   "outputs": [
    {
     "data": {
      "text/plain": [
       "77777"
      ]
     },
     "execution_count": 137,
     "metadata": {},
     "output_type": "execute_result"
    }
   ],
   "source": [
    "a.pop()"
   ]
  },
  {
   "cell_type": "code",
   "execution_count": 138,
   "id": "a7eefe53",
   "metadata": {},
   "outputs": [
    {
     "data": {
      "text/plain": [
       "[1, 77, 2, 3, 4, 5, 6, 7, 8, 9, 10]"
      ]
     },
     "execution_count": 138,
     "metadata": {},
     "output_type": "execute_result"
    }
   ],
   "source": [
    "a"
   ]
  },
  {
   "cell_type": "code",
   "execution_count": 139,
   "id": "92b0b449",
   "metadata": {},
   "outputs": [
    {
     "data": {
      "text/plain": [
       "2"
      ]
     },
     "execution_count": 139,
     "metadata": {},
     "output_type": "execute_result"
    }
   ],
   "source": [
    "a.pop(2)"
   ]
  },
  {
   "cell_type": "code",
   "execution_count": 140,
   "id": "55b9788a",
   "metadata": {},
   "outputs": [
    {
     "data": {
      "text/plain": [
       "[1, 77, 3, 4, 5, 6, 7, 8, 9, 10]"
      ]
     },
     "execution_count": 140,
     "metadata": {},
     "output_type": "execute_result"
    }
   ],
   "source": [
    "a\n"
   ]
  },
  {
   "cell_type": "code",
   "execution_count": 141,
   "id": "6a5b434b",
   "metadata": {},
   "outputs": [],
   "source": [
    "a=[\"a\",\"b\",\"c\",\"d\"]"
   ]
  },
  {
   "cell_type": "code",
   "execution_count": 142,
   "id": "176fa8ab",
   "metadata": {},
   "outputs": [],
   "source": [
    "a.remove(\"a\")"
   ]
  },
  {
   "cell_type": "code",
   "execution_count": null,
   "id": "159adc91",
   "metadata": {},
   "outputs": [],
   "source": []
  },
  {
   "cell_type": "code",
   "execution_count": 143,
   "id": "c1677a11",
   "metadata": {},
   "outputs": [
    {
     "data": {
      "text/plain": [
       "['b', 'c', 'd']"
      ]
     },
     "execution_count": 143,
     "metadata": {},
     "output_type": "execute_result"
    }
   ],
   "source": [
    "a"
   ]
  },
  {
   "cell_type": "code",
   "execution_count": 144,
   "id": "21377620",
   "metadata": {},
   "outputs": [],
   "source": [
    "del a[1]"
   ]
  },
  {
   "cell_type": "code",
   "execution_count": 145,
   "id": "b630e0d7",
   "metadata": {},
   "outputs": [
    {
     "data": {
      "text/plain": [
       "['b', 'd']"
      ]
     },
     "execution_count": 145,
     "metadata": {},
     "output_type": "execute_result"
    }
   ],
   "source": [
    "a\n"
   ]
  },
  {
   "cell_type": "code",
   "execution_count": 146,
   "id": "3e0d8d1c",
   "metadata": {},
   "outputs": [],
   "source": [
    "del a"
   ]
  },
  {
   "cell_type": "code",
   "execution_count": 147,
   "id": "84cbd7bb",
   "metadata": {},
   "outputs": [
    {
     "ename": "NameError",
     "evalue": "name 'a' is not defined",
     "output_type": "error",
     "traceback": [
      "\u001b[0;31m---------------------------------------------------------------------------\u001b[0m",
      "\u001b[0;31mNameError\u001b[0m                                 Traceback (most recent call last)",
      "\u001b[0;32m/tmp/ipykernel_9933/1288270073.py\u001b[0m in \u001b[0;36m<module>\u001b[0;34m\u001b[0m\n\u001b[0;32m----> 1\u001b[0;31m \u001b[0ma\u001b[0m\u001b[0;34m\u001b[0m\u001b[0;34m\u001b[0m\u001b[0m\n\u001b[0m",
      "\u001b[0;31mNameError\u001b[0m: name 'a' is not defined"
     ]
    }
   ],
   "source": [
    "a\n"
   ]
  },
  {
   "cell_type": "code",
   "execution_count": 148,
   "id": "d484ea62",
   "metadata": {},
   "outputs": [
    {
     "ename": "SyntaxError",
     "evalue": "invalid syntax (3065218454.py, line 1)",
     "output_type": "error",
     "traceback": [
      "\u001b[0;36m  File \u001b[0;32m\"/tmp/ipykernel_9933/3065218454.py\"\u001b[0;36m, line \u001b[0;32m1\u001b[0m\n\u001b[0;31m    a=[6,4,,5,7,9,5,4,23,4,5]\u001b[0m\n\u001b[0m           ^\u001b[0m\n\u001b[0;31mSyntaxError\u001b[0m\u001b[0;31m:\u001b[0m invalid syntax\n"
     ]
    }
   ],
   "source": [
    "a=[6,4,,5,7,9,5,4,23,4,5]\n"
   ]
  },
  {
   "cell_type": "code",
   "execution_count": null,
   "id": "eacf1d95",
   "metadata": {},
   "outputs": [],
   "source": []
  },
  {
   "cell_type": "code",
   "execution_count": null,
   "id": "89bc2acb",
   "metadata": {},
   "outputs": [],
   "source": []
  },
  {
   "cell_type": "code",
   "execution_count": null,
   "id": "052fcc90",
   "metadata": {},
   "outputs": [],
   "source": []
  },
  {
   "cell_type": "code",
   "execution_count": null,
   "id": "83f897d5",
   "metadata": {},
   "outputs": [],
   "source": []
  },
  {
   "cell_type": "code",
   "execution_count": null,
   "id": "b9ac79d9",
   "metadata": {},
   "outputs": [],
   "source": []
  },
  {
   "cell_type": "code",
   "execution_count": null,
   "id": "3e7af9cb",
   "metadata": {},
   "outputs": [],
   "source": []
  },
  {
   "cell_type": "code",
   "execution_count": null,
   "id": "5107bc9f",
   "metadata": {},
   "outputs": [],
   "source": []
  },
  {
   "cell_type": "code",
   "execution_count": null,
   "id": "165026e5",
   "metadata": {},
   "outputs": [],
   "source": []
  },
  {
   "cell_type": "code",
   "execution_count": null,
   "id": "3f69960a",
   "metadata": {},
   "outputs": [],
   "source": []
  },
  {
   "cell_type": "code",
   "execution_count": null,
   "id": "6ab3c1ba",
   "metadata": {},
   "outputs": [],
   "source": []
  },
  {
   "cell_type": "code",
   "execution_count": null,
   "id": "99fc4a74",
   "metadata": {},
   "outputs": [],
   "source": []
  },
  {
   "cell_type": "code",
   "execution_count": null,
   "id": "5a110bc4",
   "metadata": {},
   "outputs": [],
   "source": []
  },
  {
   "cell_type": "code",
   "execution_count": null,
   "id": "5cfcbb79",
   "metadata": {},
   "outputs": [],
   "source": []
  },
  {
   "cell_type": "code",
   "execution_count": null,
   "id": "8260362d",
   "metadata": {},
   "outputs": [],
   "source": []
  },
  {
   "cell_type": "code",
   "execution_count": null,
   "id": "b2e878b9",
   "metadata": {},
   "outputs": [],
   "source": []
  }
 ],
 "metadata": {
  "kernelspec": {
   "display_name": "Python 3 (ipykernel)",
   "language": "python",
   "name": "python3"
  },
  "language_info": {
   "codemirror_mode": {
    "name": "ipython",
    "version": 3
   },
   "file_extension": ".py",
   "mimetype": "text/x-python",
   "name": "python",
   "nbconvert_exporter": "python",
   "pygments_lexer": "ipython3",
   "version": "3.8.10"
  }
 },
 "nbformat": 4,
 "nbformat_minor": 5
}
