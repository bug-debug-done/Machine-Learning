{
 "cells": [
  {
   "cell_type": "code",
   "execution_count": 1,
   "id": "d2c10700",
   "metadata": {},
   "outputs": [],
   "source": [
    "a=[]\n",
    "for i in range(10):\n",
    "    a.append(i**2)"
   ]
  },
  {
   "cell_type": "code",
   "execution_count": 2,
   "id": "73f6be60",
   "metadata": {},
   "outputs": [
    {
     "data": {
      "text/plain": [
       "[0, 1, 4, 9, 16, 25, 36, 49, 64, 81]"
      ]
     },
     "execution_count": 2,
     "metadata": {},
     "output_type": "execute_result"
    }
   ],
   "source": [
    "a"
   ]
  },
  {
   "cell_type": "markdown",
   "id": "4094b6f7",
   "metadata": {},
   "source": [
    "# List comprehension "
   ]
  },
  {
   "cell_type": "code",
   "execution_count": 3,
   "id": "a1491aa9",
   "metadata": {},
   "outputs": [
    {
     "data": {
      "text/plain": [
       "[0, 1, 8, 27, 64, 125, 216, 343, 512, 729]"
      ]
     },
     "execution_count": 3,
     "metadata": {},
     "output_type": "execute_result"
    }
   ],
   "source": [
    "[i**3 for i in range(10)]"
   ]
  },
  {
   "cell_type": "code",
   "execution_count": 5,
   "id": "cd4d493e",
   "metadata": {},
   "outputs": [
    {
     "data": {
      "text/plain": [
       "[0, 8, 64, 216, 512]"
      ]
     },
     "execution_count": 5,
     "metadata": {},
     "output_type": "execute_result"
    }
   ],
   "source": [
    "[i**3 for i in range(10) if i%2==0]"
   ]
  },
  {
   "cell_type": "markdown",
   "id": "932f8011",
   "metadata": {},
   "source": [
    "# Dictionary comprehension"
   ]
  },
  {
   "cell_type": "code",
   "execution_count": 6,
   "id": "cf12c1ee",
   "metadata": {},
   "outputs": [
    {
     "data": {
      "text/plain": [
       "{0: 0, 1: 1, 2: 4, 3: 9, 4: 16, 5: 25, 6: 36, 7: 49, 8: 64, 9: 81}"
      ]
     },
     "execution_count": 6,
     "metadata": {},
     "output_type": "execute_result"
    }
   ],
   "source": [
    "{i:i**2 for i in range(10)}"
   ]
  },
  {
   "cell_type": "code",
   "execution_count": 7,
   "id": "c528a9df",
   "metadata": {},
   "outputs": [
    {
     "data": {
      "text/plain": [
       "{0: 0, 2: 8, 4: 64, 6: 216, 8: 512}"
      ]
     },
     "execution_count": 7,
     "metadata": {},
     "output_type": "execute_result"
    }
   ],
   "source": [
    "{i:i**3 for i in range(10) if i%2==0}"
   ]
  },
  {
   "cell_type": "markdown",
   "id": "acc11af5",
   "metadata": {},
   "source": [
    "# Set comprehension"
   ]
  },
  {
   "cell_type": "code",
   "execution_count": 8,
   "id": "71e1699f",
   "metadata": {},
   "outputs": [
    {
     "data": {
      "text/plain": [
       "{0, 8, 64, 216, 512}"
      ]
     },
     "execution_count": 8,
     "metadata": {},
     "output_type": "execute_result"
    }
   ],
   "source": [
    "{i**3 for i in range(10) if i%2==0}"
   ]
  },
  {
   "cell_type": "markdown",
   "id": "ec19c068",
   "metadata": {},
   "source": [
    "# not tuple comprehension"
   ]
  },
  {
   "cell_type": "code",
   "execution_count": 9,
   "id": "a7ce8dcf",
   "metadata": {},
   "outputs": [],
   "source": [
    "a=(i**3 for i in range(10))"
   ]
  },
  {
   "cell_type": "code",
   "execution_count": 10,
   "id": "67c3ad11",
   "metadata": {},
   "outputs": [
    {
     "data": {
      "text/plain": [
       "<generator object <genexpr> at 0x7f86504f74a0>"
      ]
     },
     "execution_count": 10,
     "metadata": {},
     "output_type": "execute_result"
    }
   ],
   "source": [
    "a"
   ]
  },
  {
   "cell_type": "code",
   "execution_count": null,
   "id": "c6325646",
   "metadata": {},
   "outputs": [],
   "source": []
  }
 ],
 "metadata": {
  "kernelspec": {
   "display_name": "Python 3 (ipykernel)",
   "language": "python",
   "name": "python3"
  },
  "language_info": {
   "codemirror_mode": {
    "name": "ipython",
    "version": 3
   },
   "file_extension": ".py",
   "mimetype": "text/x-python",
   "name": "python",
   "nbconvert_exporter": "python",
   "pygments_lexer": "ipython3",
   "version": "3.8.10"
  }
 },
 "nbformat": 4,
 "nbformat_minor": 5
}
